{
 "cells": [
  {
   "cell_type": "code",
   "execution_count": 5,
   "metadata": {
    "collapsed": true
   },
   "outputs": [],
   "source": [
    "import pandas as pd\n",
    "from pymongo import MongoClient\n",
    "import ConfigParser"
   ]
  },
  {
   "cell_type": "code",
   "execution_count": 6,
   "metadata": {
    "collapsed": false
   },
   "outputs": [],
   "source": [
    "Config = ConfigParser.ConfigParser()\n",
    "Config.read(\"mongo.ini\")\n",
    "ip = Config.get(\"Mongo\",\"ip\")\n",
    "port = Config.get(\"Mongo\",\"port\")"
   ]
  },
  {
   "cell_type": "code",
   "execution_count": 7,
   "metadata": {
    "collapsed": true
   },
   "outputs": [],
   "source": [
    "client = MongoClient(host=(str(ip)+\":\"+str(port)))"
   ]
  },
  {
   "cell_type": "code",
   "execution_count": 11,
   "metadata": {
    "collapsed": false
   },
   "outputs": [
    {
     "data": {
      "text/plain": [
       "[u'admin', u'local', u'renting']"
      ]
     },
     "execution_count": 11,
     "metadata": {},
     "output_type": "execute_result"
    }
   ],
   "source": [
    "client.database_names()"
   ]
  },
  {
   "cell_type": "code",
   "execution_count": null,
   "metadata": {
    "collapsed": true
   },
   "outputs": [],
   "source": []
  },
  {
   "cell_type": "code",
   "execution_count": null,
   "metadata": {
    "collapsed": true
   },
   "outputs": [],
   "source": []
  },
  {
   "cell_type": "code",
   "execution_count": null,
   "metadata": {
    "collapsed": true
   },
   "outputs": [],
   "source": []
  },
  {
   "cell_type": "code",
   "execution_count": 12,
   "metadata": {
    "collapsed": false
   },
   "outputs": [],
   "source": [
    "user=client[\"renting\"]\n",
    "archivos_cargados=user[\"Archivos_Cargados\"]\n",
    "tabla=archivos_cargados[\"viajes\"]"
   ]
  },
  {
   "cell_type": "code",
   "execution_count": 29,
   "metadata": {
    "collapsed": false
   },
   "outputs": [],
   "source": [
    "cursor = tabla.find()\n",
    "df = pd.DataFrame(list(cursor))"
   ]
  },
  {
   "cell_type": "code",
   "execution_count": 31,
   "metadata": {
    "collapsed": false
   },
   "outputs": [
    {
     "name": "stderr",
     "output_type": "stream",
     "text": [
      "/home/romel/anaconda2/lib/python2.7/site-packages/ipykernel/__main__.py:2: RuntimeWarning: divide by zero encountered in double_scalars\n",
      "  from ipykernel import kernelapp as app\n"
     ]
    }
   ],
   "source": [
    "for i in range(len(df)):\n",
    "    tabla.update_one({\"_id\":df.iloc[i][\"_id\"]},{\"$set\":{\"prueba2\":df.iloc[i][\"kilometros\"]/i}})\n"
   ]
  },
  {
   "cell_type": "code",
   "execution_count": 14,
   "metadata": {
    "collapsed": false
   },
   "outputs": [
    {
     "data": {
      "text/plain": [
       "{u'Configuracion': 3.2,\n",
       " u'Costo del viaje': 3437728.810424053,\n",
       " u'Fecha': datetime.datetime(2016, 1, 11, 0, 0),\n",
       " u'Fecha Cumplido viaje': datetime.datetime(2016, 1, 13, 9, 2, 0, 603000),\n",
       " u'Fecha inicio viaje': datetime.datetime(2016, 1, 11, 0, 0),\n",
       " u'IDRUTA_LEGALIZADA': 2200,\n",
       " u'MOTOR': u'Motor 5',\n",
       " u'Operacion': u'Operaci\\xf3n 2',\n",
       " u'PESO KG': 32350,\n",
       " u'PESO_BRUTO_VEH KG': 47550,\n",
       " u'PLACA': u'Placa23023.',\n",
       " u'PRODUCTO': u'Producto 4.2',\n",
       " u'Planta': u'Planta A 2',\n",
       " u'Rendimiento menta combustible Meta (Km/Galon)': 9.44817794604827,\n",
       " u'SUCURSAL': u'HBQ',\n",
       " u'Sub cliente': u'Subcliente 2',\n",
       " u'Subtipo Vehiculo': u'Subtipo 6',\n",
       " u'TRAYLER': u'Placa13534.',\n",
       " u'VIAJE': u'HBQ-002005',\n",
       " u'_id': ObjectId('59204e1020d13a0009402389'),\n",
       " u'galones esperados': 82.7672811059908,\n",
       " u'kilometros': 782,\n",
       " u'prueba2': inf}"
      ]
     },
     "execution_count": 14,
     "metadata": {},
     "output_type": "execute_result"
    }
   ],
   "source": [
    "tabla.find_one()"
   ]
  },
  {
   "cell_type": "code",
   "execution_count": 4,
   "metadata": {
    "collapsed": true
   },
   "outputs": [],
   "source": [
    "client.close()"
   ]
  },
  {
   "cell_type": "code",
   "execution_count": null,
   "metadata": {
    "collapsed": true
   },
   "outputs": [],
   "source": []
  }
 ],
 "metadata": {
  "kernelspec": {
   "display_name": "Python 2",
   "language": "python",
   "name": "python2"
  },
  "language_info": {
   "codemirror_mode": {
    "name": "ipython",
    "version": 2
   },
   "file_extension": ".py",
   "mimetype": "text/x-python",
   "name": "python",
   "nbconvert_exporter": "python",
   "pygments_lexer": "ipython2",
   "version": "2.7.13"
  }
 },
 "nbformat": 4,
 "nbformat_minor": 2
}
